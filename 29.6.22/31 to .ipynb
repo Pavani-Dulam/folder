{
 "cells": [
  {
   "cell_type": "code",
   "execution_count": 1,
   "id": "9de86280",
   "metadata": {},
   "outputs": [
    {
     "name": "stdout",
     "output_type": "stream",
     "text": [
      "[[[0.12504544 0.52185064 0.47841424]\n",
      "  [0.60387416 0.70256979 0.59062898]\n",
      "  [0.21269224 0.26147896 0.5121098 ]]\n",
      "\n",
      " [[0.64067691 0.30815066 0.95133331]\n",
      "  [0.92802395 0.2327075  0.77976842]\n",
      "  [0.68119645 0.4914346  0.81795973]]\n",
      "\n",
      " [[0.61306608 0.07835823 0.68401576]\n",
      "  [0.94559636 0.75743935 0.36827278]\n",
      "  [0.64541131 0.7494667  0.37511707]]]\n"
     ]
    }
   ],
   "source": [
    "#31Write a NumPy program to create a 3x3x3 array filled with arbitrary values.\n",
    "import numpy as np\n",
    "x = np.random.random((3, 3, 3))\n",
    "print(x)"
   ]
  },
  {
   "cell_type": "code",
   "execution_count": 2,
   "id": "a7d67512",
   "metadata": {},
   "outputs": [
    {
     "name": "stdout",
     "output_type": "stream",
     "text": [
      "Original array:\n",
      "[[0 1]\n",
      " [2 3]]\n",
      "Sum of all elements:\n",
      "6\n",
      "Sum of each column:\n",
      "[2 4]\n",
      "Sum of each row:\n",
      "[1 5]\n"
     ]
    }
   ],
   "source": [
    "#32Write a NumPy program to compute sum of all elements, sum of each column and sum of each row of a given array\n",
    "import numpy as np\n",
    "x = np.array([[0,1],[2,3]])\n",
    "print(\"Original array:\")\n",
    "print(x)\n",
    "print(\"Sum of all elements:\")\n",
    "print(np.sum(x))\n",
    "print(\"Sum of each column:\")\n",
    "print(np.sum(x, axis=0))\n",
    "print(\"Sum of each row:\")\n",
    "print(np.sum(x, axis=1))"
   ]
  },
  {
   "cell_type": "code",
   "execution_count": 3,
   "id": "2b12b708",
   "metadata": {},
   "outputs": [
    {
     "name": "stdout",
     "output_type": "stream",
     "text": [
      "Original vectors:\n",
      "[4 5]\n",
      "[ 7 10]\n",
      "Inner product of said vectors:\n",
      "78\n"
     ]
    }
   ],
   "source": [
    "#33Write a NumPy program to compute the inner product of two given vectors.\n",
    "import numpy as np\n",
    "x = np.array([4, 5])\n",
    "y = np.array([7, 10])\n",
    "print(\"Original vectors:\")\n",
    "print(x)\n",
    "print(y)\n",
    "print(\"Inner product of said vectors:\")\n",
    "print(np.dot(x, y))"
   ]
  },
  {
   "cell_type": "code",
   "execution_count": 4,
   "id": "05636a31",
   "metadata": {},
   "outputs": [
    {
     "name": "stdout",
     "output_type": "stream",
     "text": [
      "Original vector:\n",
      "[1 1 0]\n",
      "Original matrix:\n",
      "[[ 1  2  3]\n",
      " [ 4  5  6]\n",
      " [ 7  8  9]\n",
      " [10 11 12]]\n",
      "\n",
      "After adding the vector v to each row of the matrix m:\n",
      "[[ 2  3  3]\n",
      " [ 5  6  6]\n",
      " [ 8  9  9]\n",
      " [11 12 12]]\n"
     ]
    }
   ],
   "source": [
    "#34Write a NumPy program to add a vector to each row of a given matrix.\n",
    "import numpy as np\n",
    "m = np.array([[1,2,3], [4,5,6], [7,8,9], [10, 11, 12]])\n",
    "v = np.array([1, 1, 0])\n",
    "print(\"Original vector:\")\n",
    "print(v)\n",
    "print(\"Original matrix:\")\n",
    "print(m)\n",
    "result = np.empty_like(m) \n",
    "for i in range(4):\n",
    "  result[i, :] = m[i, :] + v\n",
    "print(\"\\nAfter adding the vector v to each row of the matrix m:\")\n",
    "print(result)"
   ]
  },
  {
   "cell_type": "code",
   "execution_count": 5,
   "id": "951b7de7",
   "metadata": {},
   "outputs": [
    {
     "name": "stdout",
     "output_type": "stream",
     "text": [
      "Check if 'temp_arra.npy' exists or not?\n",
      "True\n"
     ]
    }
   ],
   "source": [
    "#35Write a NumPy program to save a given array to a binary file.\n",
    "import numpy as np\n",
    "import os\n",
    "a = np.arange(20)\n",
    "np.save('temp_arra.npy', a)\n",
    "print(\"Check if 'temp_arra.npy' exists or not?\")\n",
    "if os.path.exists('temp_arra.npy'):\n",
    "    x2 = np.load('temp_arra.npy')\n",
    "    print(np.array_equal(a, x2))"
   ]
  },
  {
   "cell_type": "code",
   "execution_count": 6,
   "id": "29b02b5b",
   "metadata": {},
   "outputs": [
    {
     "name": "stdout",
     "output_type": "stream",
     "text": [
      "Original arrays:\n",
      "[0 1 2 3 4 5 6 7 8 9]\n",
      "[11 12 13 14 15 16 17 18 19]\n",
      "Load arrays from the 'temp_arra.npz' file:\n",
      "[0 1 2 3 4 5 6 7 8 9]\n",
      "[11 12 13 14 15 16 17 18 19]\n"
     ]
    }
   ],
   "source": [
    "#36Write a NumPy program to save two given arrays into a single file in compressed format (.npz format) and load it.\n",
    "import numpy as np\n",
    "import os\n",
    "x = np.arange(10)\n",
    "y = np.arange(11, 20)\n",
    "print(\"Original arrays:\")\n",
    "print(x)\n",
    "print(y)\n",
    "np.savez('temp_arra.npz', x=x, y=y)\n",
    "print(\"Load arrays from the 'temp_arra.npz' file:\")\n",
    "with np.load('temp_arra.npz') as data:\n",
    "    x2 = data['x']\n",
    "    y2 = data['y']\n",
    "    print(x2)\n",
    "    print(y2)"
   ]
  },
  {
   "cell_type": "code",
   "execution_count": 7,
   "id": "689f28ee",
   "metadata": {},
   "outputs": [
    {
     "name": "stdout",
     "output_type": "stream",
     "text": [
      "Original array:\n",
      "[[ 0  1  2]\n",
      " [ 3  4  5]\n",
      " [ 6  7  8]\n",
      " [ 9 10 11]]\n",
      "After loading, content of the text file:\n",
      "[[ 0.  1.  2.]\n",
      " [ 3.  4.  5.]\n",
      " [ 6.  7.  8.]\n",
      " [ 9. 10. 11.]]\n"
     ]
    }
   ],
   "source": [
    "#W37ritea NumPy program to save a given array to a text file and load it.\n",
    "import numpy as np\n",
    "import os\n",
    "x = np.arange(12).reshape(4, 3)\n",
    "print(\"Original array:\")\n",
    "print(x)\n",
    "header = 'col1 col2 col3'\n",
    "np.savetxt('temp.txt', x, fmt=\"%d\", header=header) \n",
    "print(\"After loading, content of the text file:\")\n",
    "result = np.loadtxt('temp.txt')\n",
    "print(result)"
   ]
  },
  {
   "cell_type": "code",
   "execution_count": 8,
   "id": "a8bc1ad0",
   "metadata": {},
   "outputs": [
    {
     "name": "stdout",
     "output_type": "stream",
     "text": [
      "Original array:\n",
      "[1 2 3 4 5 6]\n",
      "After loading, content of the text file:\n",
      "[1 2 3 4 5 6]\n",
      "True\n"
     ]
    }
   ],
   "source": [
    "#W38rite a NumPy program to convert a given array into bytes, and load it as array.\n",
    "import numpy as np\n",
    "import os\n",
    "a = np.array([1, 2, 3, 4, 5, 6])\n",
    "print(\"Original array:\")\n",
    "print(a)\n",
    "a_bytes = a.tobytes()\n",
    "a2 = np.frombuffer(a_bytes, dtype=a.dtype)\n",
    "print(\"After loading, content of the text file:\")\n",
    "print(a2)\n",
    "print(np.array_equal(a, a2))"
   ]
  },
  {
   "cell_type": "code",
   "execution_count": 9,
   "id": "9b1ecbad",
   "metadata": {},
   "outputs": [
    {
     "name": "stdout",
     "output_type": "stream",
     "text": [
      "True\n"
     ]
    }
   ],
   "source": [
    "#39Write a NumPy program to convert a given list into an array, then again convert it into a list. Check initial list and final list are equal or not.\n",
    "import numpy as np\n",
    "a = [[1, 2], [3, 4]]\n",
    "x = np.array(a)\n",
    "a2 = x.tolist()\n",
    "print(a == a2)\n"
   ]
  },
  {
   "cell_type": "code",
   "execution_count": 10,
   "id": "996356e1",
   "metadata": {
    "scrolled": true
   },
   "outputs": [
    {
     "name": "stdout",
     "output_type": "stream",
     "text": [
      "Plot the points using matplotlib:\n"
     ]
    },
    {
     "data": {
      "image/png": "[encoded data removed]",
      "text/plain": [
       "<Figure size 432x288 with 1 Axes>"
      ]
     },
     "metadata": {
      "needs_background": "light"
     },
     "output_type": "display_data"
    }
   ],
   "source": [
    "#40Write a NumPy program to compute the x and y coordinates for points on a sine curve and plot the points using matplotlib.\n",
    "import numpy as np\n",
    "import matplotlib.pyplot as plt\n",
    "# Compute the x and y coordinates for points on a sine curve\n",
    "x = np.arange(0, 3 * np.pi, 0.2)\n",
    "y = np.sin(x)\n",
    "print(\"Plot the points using matplotlib:\")\n",
    "plt.plot(x, y)\n",
    "plt.show()"
   ]
  },
  {
   "cell_type": "code",
   "execution_count": 11,
   "id": "d6a20bd6",
   "metadata": {},
   "outputs": [
    {
     "name": "stdout",
     "output_type": "stream",
     "text": [
      "numpy.float32 to python float\n",
      "<class 'numpy.float32'>\n",
      "<class 'float'>\n"
     ]
    }
   ],
   "source": [
    "#41Write a NumPy program to convert numpy dtypes to native python types\n",
    "import numpy as np\n",
    "print(\"numpy.float32 to python float\")\n",
    "x = np.float32(0)\n",
    "print(type(x))\n",
    "pyval = x.item()\n",
    "print(type(pyval))"
   ]
  },
  {
   "cell_type": "code",
   "execution_count": 12,
   "id": "40442358",
   "metadata": {},
   "outputs": [
    {
     "name": "stdout",
     "output_type": "stream",
     "text": [
      "Original matrix:\n",
      "[[1, 1, 0, 2], [0, 3, 0, 3], [1, 0, 4, 4]]\n",
      "Sum:\n",
      "14\n"
     ]
    }
   ],
   "source": [
    "#42Write a NumPy program to add elements in a matrix. If an element in the matrix is 0, we will not add the element below this element.\n",
    "import numpy as np\n",
    "def sum_matrix_Elements(m):\n",
    "    arra = np.array(m)   \n",
    "    element_sum = 0  \n",
    "    for p in range(len(arra)):  \n",
    "        for q in range(len(arra[p])):  \n",
    "            if arra[p][q] == 0 and p < len(arra)-1: \n",
    "                arra[p+1][q] = 0  \n",
    "            element_sum += arra[p][q]  \n",
    "    return element_sum\n",
    "m = [[1, 1, 0, 2],\n",
    "          [0, 3, 0, 3], \n",
    "     [1, 0, 4, 4]]\n",
    "print(\"Original matrix:\")\n",
    "print(m)\n",
    "print(\"Sum:\")\n",
    "print(sum_matrix_Elements(m))"
   ]
  },
  {
   "cell_type": "code",
   "execution_count": 13,
   "id": "cf30235d",
   "metadata": {},
   "outputs": [
    {
     "name": "stdout",
     "output_type": "stream",
     "text": [
      "Original array:\n",
      "[[ 3.  2. nan  1.]\n",
      " [10. 12. 10.  9.]\n",
      " [ 5. nan  1. nan]]\n",
      "\n",
      "Find the missing data of the said array:\n",
      "[[False False  True False]\n",
      " [False False False False]\n",
      " [False  True False  True]]\n"
     ]
    }
   ],
   "source": [
    "#43Write a NumPy program to find the missing data in a given array.\n",
    "import numpy as np \n",
    " \n",
    "nums = np.array([[3, 2, np.nan, 1],\n",
    "              [10, 12, 10, 9],\n",
    "              [5, np.nan, 1, np.nan]])\n",
    "\n",
    "print(\"Original array:\") \n",
    "print(nums)\n",
    "print(\"\\nFind the missing data of the said array:\")\n",
    "print(np.isnan(nums))"
   ]
  },
  {
   "cell_type": "code",
   "execution_count": 16,
   "id": "1892579e",
   "metadata": {},
   "outputs": [
    {
     "name": "stdout",
     "output_type": "stream",
     "text": [
      "Original arrays:\n",
      "[0.5 1.5 0.2]\n",
      "[0.4999999999 1.5          0.2         ]\n",
      "\n",
      "Test said two arrays are equal (element wise) or not:?\n",
      "[False  True  True]\n",
      "\n",
      "Original arrays:\n",
      "[0.5  1.5  0.23]\n",
      "[0.4999999999 1.5000000001 0.23        ]\n"
     ]
    }
   ],
   "source": [
    "#44Write a NumPy program to check whether two arrays are equal (element wise) or no\n",
    "import numpy as np\n",
    "nums1 = np.array([0.5, 1.5, 0.2])\n",
    "nums2 = np.array([0.4999999999, 1.500000000, 0.2])\n",
    "np.set_printoptions(precision=15)\n",
    "print(\"Original arrays:\")\n",
    "print(nums1)\n",
    "print(nums2)\n",
    "print(\"\\nTest said two arrays are equal (element wise) or not:?\")\n",
    "print(nums1 == nums2)\n",
    "nums1 = np.array([0.5, 1.5, 0.23])\n",
    "nums2 = np.array([0.4999999999, 1.5000000001, 0.23])\n",
    "print(\"\\nOriginal arrays:\")\n",
    "np.set_printoptions(precision=15)\n",
    "print(nums1)\n",
    "print(nums2)"
   ]
  },
  {
   "cell_type": "code",
   "execution_count": 17,
   "id": "6efb3806",
   "metadata": {},
   "outputs": [
    {
     "name": "stdout",
     "output_type": "stream",
     "text": [
      "One-dimensional array of single digit numbers:\n",
      "[ 1  2  3  4  5  6  7  8  9 10 11 12 13 14 15 16 17 18 19 20]\n",
      "\n",
      "One-dimensional array of two digit numbers:\n",
      "[10 11 12 13 14 15 16 17 18 19 20]\n",
      "\n",
      "One-dimensional array of three digit numbers:\n",
      "[100 101 102 103 104 105 106 107 108 109 110 111 112 113 114 115 116 117\n",
      " 118 119 120 121 122 123 124 125 126 127 128 129 130 131 132 133 134 135\n",
      " 136 137 138 139 140 141 142 143 144 145 146 147 148 149 150 151 152 153\n",
      " 154 155 156 157 158 159 160 161 162 163 164 165 166 167 168 169 170 171\n",
      " 172 173 174 175 176 177 178 179 180 181 182 183 184 185 186 187 188 189\n",
      " 190 191 192 193 194 195 196 197 198 199 200]\n"
     ]
    }
   ],
   "source": [
    "#45Create one-dimensional array of single, two and three digit numbers\n",
    "import numpy as np  \n",
    "nums = np.arange(1, 21)\n",
    "print(\"One-dimensional array of single digit numbers:\") \n",
    "print(nums)\n",
    "nums = np.arange(10, 21)\n",
    "print(\"\\nOne-dimensional array of two digit numbers:\") \n",
    "print(nums)\n",
    "nums = np.arange(100, 201)\n",
    "print(\"\\nOne-dimensional array of three digit numbers:\") \n",
    "print(nums)"
   ]
  },
  {
   "cell_type": "code",
   "execution_count": 18,
   "id": "6aa7e701",
   "metadata": {},
   "outputs": [
    {
     "name": "stdout",
     "output_type": "stream",
     "text": [
      "Create an array of shape (15,10):\n",
      "Command-1\n",
      "[[  1   2   3   4   5   6   7   8   9  10]\n",
      " [ 11  12  13  14  15  16  17  18  19  20]\n",
      " [ 21  22  23  24  25  26  27  28  29  30]\n",
      " [ 31  32  33  34  35  36  37  38  39  40]\n",
      " [ 41  42  43  44  45  46  47  48  49  50]\n",
      " [ 51  52  53  54  55  56  57  58  59  60]\n",
      " [ 61  62  63  64  65  66  67  68  69  70]\n",
      " [ 71  72  73  74  75  76  77  78  79  80]\n",
      " [ 81  82  83  84  85  86  87  88  89  90]\n",
      " [ 91  92  93  94  95  96  97  98  99 100]\n",
      " [101 102 103 104 105 106 107 108 109 110]\n",
      " [111 112 113 114 115 116 117 118 119 120]\n",
      " [121 122 123 124 125 126 127 128 129 130]\n",
      " [131 132 133 134 135 136 137 138 139 140]\n",
      " [141 142 143 144 145 146 147 148 149 150]]\n",
      "\n",
      "Command-2\n",
      "[[  1   2   3   4   5   6   7   8   9  10]\n",
      " [ 11  12  13  14  15  16  17  18  19  20]\n",
      " [ 21  22  23  24  25  26  27  28  29  30]\n",
      " [ 31  32  33  34  35  36  37  38  39  40]\n",
      " [ 41  42  43  44  45  46  47  48  49  50]\n",
      " [ 51  52  53  54  55  56  57  58  59  60]\n",
      " [ 61  62  63  64  65  66  67  68  69  70]\n",
      " [ 71  72  73  74  75  76  77  78  79  80]\n",
      " [ 81  82  83  84  85  86  87  88  89  90]\n",
      " [ 91  92  93  94  95  96  97  98  99 100]\n",
      " [101 102 103 104 105 106 107 108 109 110]\n",
      " [111 112 113 114 115 116 117 118 119 120]\n",
      " [121 122 123 124 125 126 127 128 129 130]\n",
      " [131 132 133 134 135 136 137 138 139 140]\n",
      " [141 142 143 144 145 146 147 148 149 150]]\n",
      "\n",
      "Command-3\n",
      "[[  1   2   3   4   5   6   7   8   9  10]\n",
      " [ 11  12  13  14  15  16  17  18  19  20]\n",
      " [ 21  22  23  24  25  26  27  28  29  30]\n",
      " [ 31  32  33  34  35  36  37  38  39  40]\n",
      " [ 41  42  43  44  45  46  47  48  49  50]\n",
      " [ 51  52  53  54  55  56  57  58  59  60]\n",
      " [ 61  62  63  64  65  66  67  68  69  70]\n",
      " [ 71  72  73  74  75  76  77  78  79  80]\n",
      " [ 81  82  83  84  85  86  87  88  89  90]\n",
      " [ 91  92  93  94  95  96  97  98  99 100]\n",
      " [101 102 103 104 105 106 107 108 109 110]\n",
      " [111 112 113 114 115 116 117 118 119 120]\n",
      " [121 122 123 124 125 126 127 128 129 130]\n",
      " [131 132 133 134 135 136 137 138 139 140]\n",
      " [141 142 143 144 145 146 147 148 149 150]]\n"
     ]
    }
   ],
   "source": [
    "#46Create a two-dimensional array of specified format\n",
    "import numpy as np   \n",
    "print(\"Create an array of shape (15,10):\") \n",
    "print(\"Command-1\")\n",
    "print(np.arange(1, 151).reshape(15, 10)) \n",
    "print(\"\\nCommand-2\")\n",
    "print(np.arange(1, 151).reshape(-1, 10)) \n",
    "print(\"\\nCommand-3\")\n",
    "print(np.arange(1, 151).reshape(15, -1))"
   ]
  },
  {
   "cell_type": "code",
   "execution_count": 19,
   "id": "67673a35",
   "metadata": {},
   "outputs": [
    {
     "name": "stdout",
     "output_type": "stream",
     "text": [
      "[0.771320643266746 0.020751949359402 0.633648234926275 0.748803882538612\n",
      " 0.49850701230259  0.224796645530848 0.198062864759624 0.760530712198959\n",
      " 0.169110836562535 0.08833981417401  0.685359818367797 0.953393346194937\n",
      " 0.003948266327914 0.512192263385777 0.812620961652114 0.612526066829388\n",
      " 0.7217553174318   0.291876068170633 0.917774122512943 0.714575783397691\n",
      " 0.542544368011261 0.142170047601527 0.373340760051469 0.674133615066345\n",
      " 0.441833174422996 0.434013993333294 0.617766978469317 0.513138242554391\n",
      " 0.650397181931467 0.601038953404544 0.805223196832746 0.521647152393634\n",
      " 0.908648880808668 0.319236088988545 0.090459349270907 0.300700056636203\n",
      " 0.11398436186355  0.828681326307677 0.04689631938925  0.626287148311393]\n"
     ]
    }
   ],
   "source": [
    "#47Create a one dimensional array of forty pseudo-randomly using random numbers from a uniform distribution\n",
    "import numpy as np  \n",
    "np.random.seed(10)\n",
    "print(np.random.rand(40))"
   ]
  },
  {
   "cell_type": "code",
   "execution_count": 20,
   "id": "9947d35b",
   "metadata": {},
   "outputs": [
    {
     "name": "stdout",
     "output_type": "stream",
     "text": [
      "[[201.69082669736346 200.3746763082702  200.68394275021677\n",
      "  195.51750123129818]\n",
      " [197.92478991563303 201.07066048488275 201.79714021459858\n",
      "  198.12823310277952]\n",
      " [200.96238963339914 200.77744291067876 200.61875865227867\n",
      "  199.05613893807728]\n",
      " [198.48492638364303 198.38860811141893 197.55239946005003\n",
      "  200.47003620983824]\n",
      " [199.9154583876559  202.99877319355295 202.01069856971475\n",
      "  200.77735483308504]\n",
      " [199.67739161408255 193.89831807071494 202.14273592752286\n",
      "  202.54951299405823]\n",
      " [199.53450968631876 199.75126019761723 199.791457270905\n",
      "  202.97687756587686]\n",
      " [200.24634412660365 196.0460693352411  198.3061125324022\n",
      "  197.88701546225133]\n",
      " [201.7845091237894  203.94032834458278 198.21152802602944\n",
      "  196.9144607143198 ]\n",
      " [201.0082480992413  197.03285103581035 200.6305276348363\n",
      "  197.82590294139914]]\n"
     ]
    }
   ],
   "source": [
    "#48Create a two-dimensional array with shape (8,5) of random numbers, Select random numbers from a normal distribution (200,7)\n",
    "import numpy as np \n",
    "np.random.seed(20) \n",
    "cbrt = np.cbrt(7)\n",
    "nd1 = 200 \n",
    "print(cbrt * np.random.randn(10, 4) + nd1)"
   ]
  },
  {
   "cell_type": "code",
   "execution_count": 21,
   "id": "f7a8d8da",
   "metadata": {},
   "outputs": [
    {
     "name": "stdout",
     "output_type": "stream",
     "text": [
      "Generate a uniform random sample with replacement:\n",
      "[2 2 1 5 2]\n",
      "\n",
      "Generate a uniform random sample without replacement:\n",
      "[6 3 5 4 2]\n",
      "\n",
      "Generate a non-uniform random sample with replacement:\n",
      "[6 1 6 0 1]\n",
      "\n",
      "Generate a uniform random sample without replacement:\n",
      "[1 6 4 3 0]\n"
     ]
    }
   ],
   "source": [
    "#49Uniform, non-uniform random sample from a given 1-D array with and without replacement\n",
    "import numpy as np \n",
    "print(\"Generate a uniform random sample with replacement:\") \n",
    "print(np.random.choice(7, 5))\n",
    "print(\"\\nGenerate a uniform random sample without replacement:\") \n",
    "print(np.random.choice(7, 5, replace=False))\n",
    "print(\"\\nGenerate a non-uniform random sample with replacement:\") \n",
    "print(np.random.choice(7, 5, p=[0.1, 0.2, 0, 0.2, 0.4, 0, 0.1]))\n",
    "print(\"\\nGenerate a uniform random sample without replacement:\") \n",
    "print(np.random.choice(7, 5, replace=False, p=[0.1, 0.2, 0, 0.2, 0.4, 0, 0.1]))  "
   ]
  },
  {
   "cell_type": "code",
   "execution_count": 22,
   "id": "40716a35",
   "metadata": {},
   "outputs": [
    {
     "name": "stdout",
     "output_type": "stream",
     "text": [
      "Original array:\n",
      "[[ 0  1  2  3]\n",
      " [ 4  5  6  7]\n",
      " [ 8  9 10 11]\n",
      " [12 13 14 15]]\n",
      "\n",
      "New array after swapping first and last rows of the said array:\n",
      "[[12 13 14 15]\n",
      " [ 4  5  6  7]\n",
      " [ 8  9 10 11]\n",
      " [ 0  1  2  3]]\n"
     ]
    }
   ],
   "source": [
    "#50 Create a new array from a given array swapping first and last rows\n",
    "import numpy as np\n",
    "nums = np.arange(16, dtype='int').reshape(-1, 4)\n",
    "print(\"Original array:\")\n",
    "print(nums)\n",
    "print(\"\\nNew array after swapping first and last rows of the said array:\")\n",
    "nums[[0,-1],:]=nums[[-1,0],:]\n",
    "print(nums)"
   ]
  },
  {
   "cell_type": "code",
   "execution_count": 23,
   "id": "7bbdfda4",
   "metadata": {},
   "outputs": [
    {
     "name": "stdout",
     "output_type": "stream",
     "text": [
      "Original array:\n",
      "[[0 0 0 0 0 0]\n",
      " [0 0 0 0 0 0]\n",
      " [0 0 0 0 0 0]\n",
      " [0 0 0 0 0 0]\n",
      " [0 0 0 0 0 0]]\n",
      "\n",
      "New array:\n",
      "[[3 0 3 0 3 0]\n",
      " [7 0 7 0 7 0]\n",
      " [3 0 3 0 3 0]\n",
      " [7 0 7 0 7 0]\n",
      " [3 0 3 0 3 0]]\n"
     ]
    }
   ],
   "source": [
    "#51Write a NumPy program to create a new array of given shape (5,6) and type, filled with zeros.\n",
    "import numpy as np\n",
    "nums = np.zeros(shape=(5, 6), dtype='int')\n",
    "print(\"Original array:\")\n",
    "print(nums)\n",
    "nums[::2, ::2] = 3\n",
    "nums[1::2, ::2] = 7\n",
    "print(\"\\nNew array:\")\n",
    "print(nums)"
   ]
  },
  {
   "cell_type": "code",
   "execution_count": 24,
   "id": "82e70fb0",
   "metadata": {},
   "outputs": [
    {
     "name": "stdout",
     "output_type": "stream",
     "text": [
      "Original array:\n",
      "[[5.54 3.38 7.99]\n",
      " [3.54 4.38 6.99]\n",
      " [1.54 2.39 9.29]]\n",
      "\n",
      "Sort the said array by row in ascending order:\n",
      "[[3.38 5.54 7.99]\n",
      " [3.54 4.38 6.99]\n",
      " [1.54 2.39 9.29]]\n",
      "\n",
      "Sort the said array by column in ascending order:\n",
      "[[1.54 2.39 6.99]\n",
      " [3.54 3.38 7.99]\n",
      " [5.54 4.38 9.29]]\n"
     ]
    }
   ],
   "source": [
    "#52Write a NumPy program to sort a given array by row and column in ascending order.\n",
    "import numpy as np  \n",
    "nums = np.array([[5.54, 3.38, 7.99],\n",
    "              [3.54, 4.38, 6.99],\n",
    "              [1.54, 2.39, 9.29]])\n",
    "print(\"Original array:\")\n",
    "print(nums)\n",
    "print(\"\\nSort the said array by row in ascending order:\")\n",
    "print(np.sort(nums))\n",
    "print(\"\\nSort the said array by column in ascending order:\")\n",
    "print(np.sort(nums, axis=0))"
   ]
  },
  {
   "cell_type": "code",
   "execution_count": 25,
   "id": "4c7eecca",
   "metadata": {},
   "outputs": [
    {
     "name": "stdout",
     "output_type": "stream",
     "text": [
      "Original array:\n",
      "[[5.54 3.38 7.99]\n",
      " [3.54 4.38 6.99]\n",
      " [1.54 2.39 9.29]]\n",
      "\n",
      "Elements of the said array greater than 5\n",
      "[5.54 7.99 6.99 9.29]\n",
      "\n",
      "Elements of the said array less than 6\n",
      "[5.54 3.38 3.54 4.38 1.54 2.39]\n"
     ]
    }
   ],
   "source": [
    "#53Write a NumPy program to extract all numbers from a given array which are less and greater than a specified number.\n",
    "import numpy as np  \n",
    "nums = np.array([[5.54, 3.38, 7.99],\n",
    "              [3.54, 4.38, 6.99],\n",
    "              [1.54, 2.39, 9.29]])\n",
    "print(\"Original array:\")\n",
    "print(nums)\n",
    "n = 5\n",
    "print(\"\\nElements of the said array greater than\",n)\n",
    "print(nums[nums > n])\n",
    "n = 6\n",
    "print(\"\\nElements of the said array less than\",n)\n",
    "print(nums[nums < n])"
   ]
  },
  {
   "cell_type": "code",
   "execution_count": 26,
   "id": "48983f98",
   "metadata": {},
   "outputs": [
    {
     "name": "stdout",
     "output_type": "stream",
     "text": [
      "Original array:\n",
      "[[5.54 3.38 7.99]\n",
      " [3.54 8.32 6.99]\n",
      " [1.54 2.39 9.29]]\n",
      "\n",
      "Replace elements of the said array which are equal to  8.32 with 18.32\n",
      "[[ 5.54  3.38  7.99]\n",
      " [ 3.54 18.32  6.99]\n",
      " [ 1.54  2.39  9.29]]\n",
      "\n",
      "Replace elements with of the said array which are less than 8.32 with 18.32\n",
      "[[18.32 18.32 18.32]\n",
      " [18.32  8.32 18.32]\n",
      " [18.32 18.32  9.29]]\n",
      "\n",
      "Replace elements with of the said array which are greater than 8.32 with 18.32\n",
      "[[ 5.54  3.38  7.99]\n",
      " [ 3.54  8.32  6.99]\n",
      " [ 1.54  2.39 18.32]]\n"
     ]
    }
   ],
   "source": [
    "#54Write a NumPy program to replace all numbers in a given array which is equal, less and greater to a given number.\n",
    "import numpy as np\n",
    "nums = np.array([[5.54, 3.38, 7.99],\n",
    "              [3.54, 8.32, 6.99],\n",
    "              [1.54, 2.39, 9.29]])\n",
    "print(\"Original array:\")\n",
    "print(nums)\n",
    "n = 8.32\n",
    "r = 18.32\n",
    "print(\"\\nReplace elements of the said array which are equal to \",n,\"with\",r)\n",
    "print(np.where(nums == n, r, nums))\n",
    "print(\"\\nReplace elements with of the said array which are less than\",n,\"with\",r)\n",
    "print(np.where(nums < n, r, nums))\n",
    "print(\"\\nReplace elements with of the said array which are greater than\",n,\"with\",r)\n",
    "print(np.where(nums > n, r, nums))"
   ]
  },
  {
   "cell_type": "code",
   "execution_count": 27,
   "id": "473088e9",
   "metadata": {},
   "outputs": [
    {
     "name": "stdout",
     "output_type": "stream",
     "text": [
      "Original array:\n",
      "[[5.54 3.38 7.99]\n",
      " [3.54 8.32 6.99]\n",
      " [1.54 2.39 9.29]]\n",
      "\n",
      "New array of equal shape and data type of the said array filled by 0:\n",
      "[[0. 0. 0.]\n",
      " [0. 0. 0.]\n",
      " [0. 0. 0.]]\n"
     ]
    }
   ],
   "source": [
    "#55Write a NumPy program to create an array of equal shape and data type of a given array.\n",
    "#Fill the new array with 0.0.\n",
    "import numpy as np  \n",
    "nums = np.array([[5.54, 3.38, 7.99],\n",
    "              [3.54, 8.32, 6.99],\n",
    "              [1.54, 2.39, 9.29]])\n",
    "print(\"Original array:\")\n",
    "print(nums)\n",
    "print(\"\\nNew array of equal shape and data type of the said array filled by 0:\")\n",
    "print(np.zeros_like(nums))"
   ]
  },
  {
   "cell_type": "code",
   "execution_count": 28,
   "id": "ea53358f",
   "metadata": {},
   "outputs": [
    {
     "name": "stdout",
     "output_type": "stream",
     "text": [
      "Array:\n",
      "[[[1 5 2 1]\n",
      "  [4 3 5 6]\n",
      "  [6 3 0 6]\n",
      "  [7 3 5 0]\n",
      "  [2 3 3 5]]\n",
      "\n",
      " [[2 2 3 1]\n",
      "  [4 0 0 5]\n",
      "  [6 3 2 1]\n",
      "  [5 1 0 0]\n",
      "  [0 1 9 1]]\n",
      "\n",
      " [[3 1 4 2]\n",
      "  [4 1 6 0]\n",
      "  [1 2 0 6]\n",
      "  [8 3 4 0]\n",
      "  [2 0 2 8]]]\n"
     ]
    }
   ],
   "source": [
    "#56Write a NumPy program to create a three-dimension array with shape (3,5,4) and set to a variable.\n",
    "import numpy as np  \n",
    "nums = np.array([[[1, 5, 2, 1],\n",
    "               [4, 3, 5, 6],\n",
    "               [6, 3, 0, 6],\n",
    "               [7, 3, 5, 0],\n",
    "               [2, 3, 3, 5]],\n",
    "              \n",
    "              [[2, 2, 3, 1],\n",
    "               [4, 0, 0, 5],\n",
    "               [6, 3, 2, 1],\n",
    "               [5, 1, 0, 0],               \n",
    "               [0, 1, 9, 1]],\n",
    "                  [[3, 1, 4, 2],\n",
    "               [4, 1, 6, 0],\n",
    "               [1, 2, 0, 6],\n",
    "               [8, 3, 4, 0],               \n",
    "               [2, 0, 2, 8]]]) \n",
    "print(\"Array:\")\n",
    "print(nums)"
   ]
  },
  {
   "cell_type": "code",
   "execution_count": 29,
   "id": "ef9afe38",
   "metadata": {},
   "outputs": [
    {
     "name": "stdout",
     "output_type": "stream",
     "text": [
      "Original array:\n",
      "[[ 0  1  2  3]\n",
      " [ 4  5  6  7]\n",
      " [ 8  9 10 11]\n",
      " [12 13 14 15]]\n",
      "\n",
      "New array after swapping first and last columns of the said array:\n",
      "[[ 3  2  1  0]\n",
      " [ 7  6  5  4]\n",
      " [11 10  9  8]\n",
      " [15 14 13 12]]\n"
     ]
    }
   ],
   "source": [
    "#57Create a new array from a given array, swapping first and last, second and third columns\n",
    "import numpy as np \n",
    "nums = np.arange(16, dtype='int').reshape(-1, 4)\n",
    "print(\"Original array:\")\n",
    "print(nums)\n",
    "print(\"\\nNew array after swapping first and last columns of the said array:\")\n",
    "new_nums = nums[:, ::-1]\n",
    "print(new_nums)"
   ]
  },
  {
   "cell_type": "code",
   "execution_count": 30,
   "id": "2f84fd3a",
   "metadata": {},
   "outputs": [
    {
     "name": "stdout",
     "output_type": "stream",
     "text": [
      "Original array:\n",
      "[[[ 1  2  3  4]\n",
      "  [ 0  1  3  4]\n",
      "  [90 91 93 94]\n",
      "  [ 5  0  3  2]]]\n",
      "\n",
      "Swap rows and columns of the said array in reverse order:\n",
      "[[[ 5  0  3  2]\n",
      "  [90 91 93 94]\n",
      "  [ 0  1  3  4]\n",
      "  [ 1  2  3  4]]]\n",
      "None\n"
     ]
    }
   ],
   "source": [
    "#58Write a NumPy program to swap rows and columns of a given array in reverse order.\n",
    "import numpy as np\n",
    "nums = np.array([[[1, 2, 3, 4],\n",
    "               [0, 1, 3, 4],\n",
    "               [90, 91, 93, 94],\n",
    "               [5, 0, 3, 2]]])\n",
    "print(\"Original array:\")\n",
    "print(nums)\n",
    "print(\"\\nSwap rows and columns of the said array in reverse order:\")\n",
    "new_nums = print(nums[::-1, ::-1])\n",
    "print(new_nums)"
   ]
  },
  {
   "cell_type": "code",
   "execution_count": 31,
   "id": "e7588fc1",
   "metadata": {},
   "outputs": [
    {
     "name": "stdout",
     "output_type": "stream",
     "text": [
      "Array1:\n",
      "[[2 5 2]\n",
      " [1 5 5]]\n",
      "Array2:\n",
      "[[5 3 4]\n",
      " [3 2 5]]\n",
      "\n",
      "Multiply said arrays of same size element-by-element:\n",
      "[[10 15  8]\n",
      " [ 3 10 25]]\n"
     ]
    }
   ],
   "source": [
    "#59Multiply two given arrays of same size element-by-element\n",
    "import numpy as np \n",
    "nums1 = np.array([[2, 5, 2],\n",
    "              [1, 5, 5]])\n",
    "nums2 = np.array([[5, 3, 4],\n",
    "              [3, 2, 5]])\n",
    "print(\"Array1:\") \n",
    "print(nums1)\n",
    "print(\"Array2:\") \n",
    "print(nums2)\n",
    "print(\"\\nMultiply said arrays of same size element-by-element:\")\n",
    "print(np.multiply(nums1, nums2))"
   ]
  },
  {
   "cell_type": "code",
   "execution_count": null,
   "id": "fce000b2",
   "metadata": {},
   "outputs": [],
   "source": []
  }
 ],
 "metadata": {
  "kernelspec": {
   "display_name": "Python 3 (ipykernel)",
   "language": "python",
   "name": "python3"
  },
  "language_info": {
   "codemirror_mode": {
    "name": "ipython",
    "version": 3
   },
   "file_extension": ".py",
   "mimetype": "text/x-python",
   "name": "python",
   "nbconvert_exporter": "python",
   "pygments_lexer": "ipython3",
   "version": "3.9.7"
  }
 },
 "nbformat": 4,
 "nbformat_minor": 5
}
