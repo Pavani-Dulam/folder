{
 "cells": [
  {
   "cell_type": "code",
   "execution_count": 2,
   "id": "83419fd1",
   "metadata": {},
   "outputs": [],
   "source": [
    "import numpy as np\n",
    "import pandas as pd\n",
    "from sklearn.linear_model import LinearRegression"
   ]
  },
  {
   "cell_type": "code",
   "execution_count": 13,
   "id": "215fa019",
   "metadata": {},
   "outputs": [
    {
     "name": "stdout",
     "output_type": "stream",
     "text": [
      "   x   y\n",
      "0  1   1\n",
      "1  2   4\n",
      "2  3   9\n",
      "3  4  16\n",
      "4  5  25\n"
     ]
    }
   ],
   "source": [
    "x=pd.DataFrame({\"x\":[1,2,3,4,5],\"y\":[1,4,9,16,25]})\n",
    "print(x)"
   ]
  },
  {
   "cell_type": "code",
   "execution_count": 5,
   "id": "a5544372",
   "metadata": {},
   "outputs": [
    {
     "name": "stdout",
     "output_type": "stream",
     "text": [
      "[17. 23. 35.]\n"
     ]
    }
   ],
   "source": [
    "a=np.array([1,2,3,4,5]).reshape(-1,1)\n",
    "y=np.array([1,4,9,16,25])\n",
    "model=LinearRegression()\n",
    "model.fit(a,y)\n",
    "yn=np.array([4,5,7]).reshape(-1,1)\n",
    "y_pred=model.predict(yn)\n",
    "print(y_pred)"
   ]
  },
  {
   "cell_type": "code",
   "execution_count": null,
   "id": "e3437779",
   "metadata": {},
   "outputs": [],
   "source": []
  },
  {
   "cell_type": "code",
   "execution_count": null,
   "id": "6cbdf0c1",
   "metadata": {},
   "outputs": [],
   "source": []
  },
  {
   "cell_type": "code",
   "execution_count": null,
   "id": "f940a2a9",
   "metadata": {},
   "outputs": [],
   "source": []
  },
  {
   "cell_type": "code",
   "execution_count": null,
   "id": "4dcdd61e",
   "metadata": {},
   "outputs": [],
   "source": []
  }
 ],
 "metadata": {
  "kernelspec": {
   "display_name": "Python 3 (ipykernel)",
   "language": "python",
   "name": "python3"
  },
  "language_info": {
   "codemirror_mode": {
    "name": "ipython",
    "version": 3
   },
   "file_extension": ".py",
   "mimetype": "text/x-python",
   "name": "python",
   "nbconvert_exporter": "python",
   "pygments_lexer": "ipython3",
   "version": "3.9.7"
  }
 },
 "nbformat": 4,
 "nbformat_minor": 5
}
