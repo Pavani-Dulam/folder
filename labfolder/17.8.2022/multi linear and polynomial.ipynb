{
 "cells": [
  {
   "cell_type": "markdown",
   "id": "101b0975",
   "metadata": {},
   "source": [
    "# multi linear regreesion"
   ]
  },
  {
   "cell_type": "code",
   "execution_count": 1,
   "id": "2819bd9f",
   "metadata": {},
   "outputs": [
    {
     "name": "stdout",
     "output_type": "stream",
     "text": [
      "coefficient of determination:1.0\n",
      "intercept:2.999999999999999\n",
      "coefficients.predict(x)\n",
      "predicted response:\n",
      "{y_pred}\n",
      "predicted response:\n",
      "[4. 2. 7.]\n"
     ]
    }
   ],
   "source": [
    "import pandas as pd\n",
    "import numpy as np\n",
    "from sklearn.linear_model import LinearRegression\n",
    "x=[[1,2],[2,3],[4,8]]\n",
    "y=[4,2,7]\n",
    "x,y=np.array(x),np.array(y)\n",
    "model=LinearRegression().fit(x,y)\n",
    "r_sq=model.score(x,y)\n",
    "print(f\"coefficient of determination:{r_sq}\")\n",
    "print(f\"intercept:{model.intercept_}\")\n",
    "print(f\"coefficients.predict(x)\")\n",
    "print(\"predicted response:\\n{y_pred}\")\n",
    "y_pred=model.intercept_+np.sum(model.coef_*x,axis=1)\n",
    "print(f\"predicted response:\\n{y_pred}\")\n",
    "x_new=np.arange(10).reshape((-1,2))\n",
    "x_new=model.predict(x_new)\n",
    "      \n",
    "    "
   ]
  },
  {
   "cell_type": "markdown",
   "id": "e44f055d",
   "metadata": {},
   "source": [
    "# polynomial regression\n"
   ]
  },
  {
   "cell_type": "code",
   "execution_count": 22,
   "id": "6a80063b",
   "metadata": {},
   "outputs": [
    {
     "name": "stdout",
     "output_type": "stream",
     "text": [
      "0.9335064935064936\n",
      "[ 4.11818182 -0.59090909]\n"
     ]
    }
   ],
   "source": [
    "import numpy as np\n",
    "from sklearn.linear_model import LinearRegression\n",
    "from sklearn.preprocessing import PolynomialFeatures\n",
    "x=np.array([1,3,4,5]).reshape(-1,1)\n",
    "y=np.array([1,4,5,3])\n",
    "transformer=PolynomialFeatures(degree=2,include_bias=False)\n",
    "transformer.fit(x)\n",
    "x_=transformer.transform(x)\n",
    "model=LinearRegression().fit(x_,y)\n",
    "r_sq=model.score(x_,y)\n",
    "print(r_sq)\n",
    "print(model.coef_)\n",
    "x_=PolynomialFeatures(degree=2,include_bias=True)\n",
    "\n"
   ]
  },
  {
   "cell_type": "code",
   "execution_count": 2,
   "id": "786b8de2",
   "metadata": {},
   "outputs": [],
   "source": [
    "import numpy as np\n",
    "from sklearn.linear_model import LinearRegression\n",
    "from sklearn.preprocessing import PolynomialFeatures"
   ]
  },
  {
   "cell_type": "code",
   "execution_count": 3,
   "id": "7e6c0861",
   "metadata": {},
   "outputs": [
    {
     "data": {
      "text/plain": [
       "PolynomialFeatures(include_bias=False)"
      ]
     },
     "execution_count": 3,
     "metadata": {},
     "output_type": "execute_result"
    }
   ],
   "source": [
    "x=np.array([1,3,4,5]).reshape(-1,1)\n",
    "y=np.array([1,4,5,3])\n",
    "transformer=PolynomialFeatures(degree=2,include_bias=False)\n",
    "transformer.fit(x)"
   ]
  },
  {
   "cell_type": "code",
   "execution_count": 4,
   "id": "76b46262",
   "metadata": {},
   "outputs": [
    {
     "name": "stdout",
     "output_type": "stream",
     "text": [
      "0.9335064935064936\n"
     ]
    }
   ],
   "source": [
    "x_=transformer.transform(x)\n",
    "model=LinearRegression().fit(x_,y)\n",
    "r_sq=model.score(x_,y)\n",
    "print(r_sq)"
   ]
  },
  {
   "cell_type": "code",
   "execution_count": 5,
   "id": "4c260286",
   "metadata": {},
   "outputs": [
    {
     "name": "stdout",
     "output_type": "stream",
     "text": [
      "[ 4.11818182 -0.59090909]\n"
     ]
    }
   ],
   "source": [
    "print(model.coef_)"
   ]
  },
  {
   "cell_type": "code",
   "execution_count": 6,
   "id": "6e811c05",
   "metadata": {},
   "outputs": [],
   "source": [
    "x_=PolynomialFeatures(degree=2,include_bias=True)\n"
   ]
  },
  {
   "cell_type": "code",
   "execution_count": null,
   "id": "286d1df4",
   "metadata": {},
   "outputs": [],
   "source": []
  },
  {
   "cell_type": "code",
   "execution_count": null,
   "id": "067c4d22",
   "metadata": {},
   "outputs": [],
   "source": []
  }
 ],
 "metadata": {
  "kernelspec": {
   "display_name": "Python 3 (ipykernel)",
   "language": "python",
   "name": "python3"
  },
  "language_info": {
   "codemirror_mode": {
    "name": "ipython",
    "version": 3
   },
   "file_extension": ".py",
   "mimetype": "text/x-python",
   "name": "python",
   "nbconvert_exporter": "python",
   "pygments_lexer": "ipython3",
   "version": "3.9.7"
  }
 },
 "nbformat": 4,
 "nbformat_minor": 5
}
