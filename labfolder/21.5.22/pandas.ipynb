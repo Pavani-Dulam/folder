{
 "cells": [
  {
   "cell_type": "markdown",
   "id": "85751c5f",
   "metadata": {},
   "source": [
    "# series 1d array\n"
   ]
  },
  {
   "cell_type": "code",
   "execution_count": 12,
   "id": "bd0bb66c",
   "metadata": {},
   "outputs": [],
   "source": [
    "import pandas as pd\n",
    "a=pd.Series([10,30,50])\n",
    "print(a)"
   ]
  },
  {
   "cell_type": "code",
   "execution_count": 20,
   "id": "83a4a45d",
   "metadata": {},
   "outputs": [
    {
     "name": "stdout",
     "output_type": "stream",
     "text": [
      "4    10\n",
      "3    30\n",
      "6    50\n",
      "dtype: int64\n"
     ]
    }
   ],
   "source": [
    "import pandas as pd\n",
    "a=pd.Series([10,30,50],index=[4,3,6])\n",
    "print(a)"
   ]
  },
  {
   "cell_type": "markdown",
   "id": "ae62a4fc",
   "metadata": {},
   "source": [
    "\n",
    "                "
   ]
  },
  {
   "cell_type": "markdown",
   "id": "e12ea29e",
   "metadata": {},
   "source": [
    "# DataFrame 2d array"
   ]
  },
  {
   "cell_type": "code",
   "execution_count": 2,
   "id": "16dad720",
   "metadata": {},
   "outputs": [
    {
     "name": "stdout",
     "output_type": "stream",
     "text": [
      "   abc  def\n",
      "0  123  456\n"
     ]
    }
   ],
   "source": [
    "import pandas as pd\n",
    "a=pd.DataFrame({\"abc\":[123],\"def\":[456]})\n",
    "print(a)\n"
   ]
  },
  {
   "cell_type": "code",
   "execution_count": 3,
   "id": "a4218398",
   "metadata": {},
   "outputs": [
    {
     "name": "stdout",
     "output_type": "stream",
     "text": [
      "    cars  passings\n",
      "0    bmw         3\n",
      "1  volvo         7\n",
      "2   ford         2\n"
     ]
    }
   ],
   "source": [
    "import pandas as pd\n",
    "data={\"cars\":[\"bmw\",\"volvo\",\"ford\"],\"passings\":[3,7,2]}\n",
    "var=pd.DataFrame(data)\n",
    "print(var)"
   ]
  },
  {
   "cell_type": "code",
   "execution_count": 4,
   "id": "0653c98b",
   "metadata": {},
   "outputs": [
    {
     "name": "stdout",
     "output_type": "stream",
     "text": [
      "0    1\n",
      "1    2\n",
      "2    3\n",
      "dtype: int64\n"
     ]
    }
   ],
   "source": [
    "import pandas as pd\n",
    "a=[1,2,3]\n",
    "var=pd.Series(a)\n",
    "print(var)"
   ]
  },
  {
   "cell_type": "code",
   "execution_count": 5,
   "id": "f466defa",
   "metadata": {},
   "outputs": [
    {
     "name": "stdout",
     "output_type": "stream",
     "text": [
      "x    1\n",
      "y    2\n",
      "z    3\n",
      "dtype: int64\n"
     ]
    }
   ],
   "source": [
    "a=[1,2,3]\n",
    "var=pd.Series(a,index=[\"x\",\"y\",\"z\"])\n",
    "print(var)"
   ]
  },
  {
   "cell_type": "code",
   "execution_count": 6,
   "id": "020d7923",
   "metadata": {},
   "outputs": [
    {
     "name": "stdout",
     "output_type": "stream",
     "text": [
      "day1    420\n",
      "day2    380\n",
      "dtype: int64\n"
     ]
    }
   ],
   "source": [
    "import pandas as pd\n",
    "calories={\"day1\":420,\"day2\":380}\n",
    "var=pd.Series(calories)\n",
    "print(var)"
   ]
  },
  {
   "cell_type": "code",
   "execution_count": 7,
   "id": "0d20424e",
   "metadata": {},
   "outputs": [
    {
     "name": "stdout",
     "output_type": "stream",
     "text": [
      "   calories  duration\n",
      "0       120        10\n",
      "1       450        20\n",
      "2       380        24\n"
     ]
    }
   ],
   "source": [
    "import pandas as pd\n",
    "calories={\"calories\":[120,450,380],\"duration\":[10,20,24]}\n",
    "var=pd.DataFrame(calories)\n",
    "print(var)"
   ]
  },
  {
   "cell_type": "code",
   "execution_count": null,
   "id": "59279618",
   "metadata": {},
   "outputs": [],
   "source": []
  }
 ],
 "metadata": {
  "kernelspec": {
   "display_name": "Python 3 (ipykernel)",
   "language": "python",
   "name": "python3"
  },
  "language_info": {
   "codemirror_mode": {
    "name": "ipython",
    "version": 3
   },
   "file_extension": ".py",
   "mimetype": "text/x-python",
   "name": "python",
   "nbconvert_exporter": "python",
   "pygments_lexer": "ipython3",
   "version": "3.9.7"
  }
 },
 "nbformat": 4,
 "nbformat_minor": 5
}
