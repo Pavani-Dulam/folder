{
 "cells": [
  {
   "cell_type": "markdown",
   "id": "a37a5a87",
   "metadata": {},
   "source": [
    "# r is used to read an existing file here geek1 file is not there so it is error"
   ]
  },
  {
   "cell_type": "code",
   "execution_count": 47,
   "id": "fb6cfda9",
   "metadata": {},
   "outputs": [
    {
     "ename": "FileNotFoundError",
     "evalue": "[Errno 2] No such file or directory: 'geek.txt'",
     "output_type": "error",
     "traceback": [
      "\u001b[1;31m---------------------------------------------------------------------------\u001b[0m",
      "\u001b[1;31mFileNotFoundError\u001b[0m                         Traceback (most recent call last)",
      "\u001b[1;32mC:\\Users\\RGUKTS~1\\AppData\\Local\\Temp/ipykernel_24172/2470702042.py\u001b[0m in \u001b[0;36m<module>\u001b[1;34m\u001b[0m\n\u001b[1;32m----> 1\u001b[1;33m \u001b[0mfile\u001b[0m\u001b[1;33m=\u001b[0m\u001b[0mopen\u001b[0m\u001b[1;33m(\u001b[0m\u001b[1;34m\"geek.txt\"\u001b[0m\u001b[1;33m,\u001b[0m\u001b[1;34m\"r\"\u001b[0m\u001b[1;33m)\u001b[0m\u001b[1;33m\u001b[0m\u001b[1;33m\u001b[0m\u001b[0m\n\u001b[0m\u001b[0;32m      2\u001b[0m \u001b[1;32mfor\u001b[0m \u001b[0meach\u001b[0m \u001b[1;32min\u001b[0m \u001b[0mfile\u001b[0m\u001b[1;33m:\u001b[0m\u001b[1;33m\u001b[0m\u001b[1;33m\u001b[0m\u001b[0m\n\u001b[0;32m      3\u001b[0m     \u001b[0mprint\u001b[0m\u001b[1;33m(\u001b[0m\u001b[0meach\u001b[0m\u001b[1;33m)\u001b[0m\u001b[1;33m\u001b[0m\u001b[1;33m\u001b[0m\u001b[0m\n",
      "\u001b[1;31mFileNotFoundError\u001b[0m: [Errno 2] No such file or directory: 'geek.txt'"
     ]
    }
   ],
   "source": [
    "file=open(\"geek.txt\",\"r\")\n",
    "for each in file:\n",
    "    print(each)"
   ]
  },
  {
   "cell_type": "code",
   "execution_count": 48,
   "id": "ac5431f3",
   "metadata": {},
   "outputs": [
    {
     "name": "stdout",
     "output_type": "stream",
     "text": [
      "ok\n"
     ]
    }
   ],
   "source": [
    "file=open(\"file11.txt\",\"r\")\n",
    "b=open(\"loop.txt\",\"w\")\n",
    "c=open(\"special.txt\",\"w\")\n",
    "for each in file:\n",
    "    for i in each:\n",
    "        if i.islower()==True:\n",
    "            d=b.write(i)\n",
    "        elif i.isdigit()==True:\n",
    "            d=c.write(i)\n",
    "file=open(\"loop.txt\",\"r\")\n",
    "file.read()\n",
    "file=open(\"special.txt\",\"r\")\n",
    "file.read()\n",
    "print(\"ok\")\n",
    "        \n",
    "        \n",
    "    \n"
   ]
  },
  {
   "cell_type": "code",
   "execution_count": 49,
   "id": "4c61d908",
   "metadata": {},
   "outputs": [
    {
     "name": "stdout",
     "output_type": "stream",
     "text": [
      "hi my name is pavani \n",
      "\n",
      " currentlu i am studying btech 2nd year at rgukt sklm \n",
      "\n",
      " my goal is to become a full stack developer\n"
     ]
    }
   ],
   "source": [
    "file=open(\"handle2.txt\",\"w\")\n",
    "file.write(\"hi my name is pavani \\n currentlu i am studying btech 2nd year at rgukt sklm \\n my goal is to become a full stack developer\")\n",
    "file=open(\"handle2.txt\",\"r\")\n",
    "for each in file:\n",
    "    print(each)\n",
    "file.close()\n"
   ]
  },
  {
   "cell_type": "code",
   "execution_count": 50,
   "id": "c8941833",
   "metadata": {},
   "outputs": [
    {
     "name": "stdout",
     "output_type": "stream",
     "text": [
      "hi my name is pavani \n",
      " currentlu i am studying btech 2nd year at rgukt sklm \n",
      " my goal is to become a full stack developer\n"
     ]
    }
   ],
   "source": [
    "file=open(\"handle2.txt\",\"r\")\n",
    "text=file.read()\n",
    "print(text)\n",
    "file.close()"
   ]
  },
  {
   "cell_type": "code",
   "execution_count": 51,
   "id": "9f97f41e",
   "metadata": {},
   "outputs": [
    {
     "name": "stdout",
     "output_type": "stream",
     "text": [
      "hi my name is pavani \n",
      " currentlu i am studying btech 2nd year at rgukt sklm \n",
      " my goal is to become a full stack developer\n",
      " all the best\n"
     ]
    }
   ],
   "source": [
    "file=open(\"handle2.txt\",\"a\")\n",
    "file.write(\"\\n all the best\")\n",
    "file=open(\"handle2.txt\",\"r\")\n",
    "text=file.read()\n",
    "print(text)\n",
    "file.close()"
   ]
  },
  {
   "cell_type": "code",
   "execution_count": 52,
   "id": "f54a1362",
   "metadata": {},
   "outputs": [
    {
     "name": "stdout",
     "output_type": "stream",
     "text": [
      "hi my name is pavani \n",
      " currentlu i am studying btech 2nd year at rgukt sklm \n",
      " my goal is to become a full stack developer\n",
      " all the best\n"
     ]
    }
   ],
   "source": [
    "file=open(\"handle2.txt\",\"r\")\n",
    "t=file.read()\n",
    "print(t)\n",
    "file.close()"
   ]
  },
  {
   "cell_type": "code",
   "execution_count": 56,
   "id": "393f3ed3",
   "metadata": {},
   "outputs": [],
   "source": [
    "f=open(\"new.txt\",\"w\")\n",
    "file.close()"
   ]
  },
  {
   "cell_type": "code",
   "execution_count": 60,
   "id": "4afdf4a5",
   "metadata": {},
   "outputs": [],
   "source": [
    "fi=open(\"new.txt\",\"w\")\n",
    "fi.write(\"this is write command\")\n",
    "fi.write(\"\\n it allows to write\")\n",
    "fi.close()"
   ]
  },
  {
   "cell_type": "markdown",
   "id": "d7904377",
   "metadata": {},
   "source": [
    "here we write write statements to new txt so existing data overiden.hi pavs will be printed"
   ]
  },
  {
   "cell_type": "code",
   "execution_count": 62,
   "id": "15660f0b",
   "metadata": {},
   "outputs": [],
   "source": [
    "fp=open(\"new.txt\",\"w\")\n",
    "fp.write(\"hi pavs\")\n",
    "fp.close()"
   ]
  },
  {
   "cell_type": "code",
   "execution_count": 70,
   "id": "15518e20",
   "metadata": {},
   "outputs": [
    {
     "name": "stdout",
     "output_type": "stream",
     "text": [
      "ok\n"
     ]
    }
   ],
   "source": [
    "fi=open(\"new.txt\",\"w\")\n",
    "b=open(\"another.txt\",\"w\")\n",
    "fi.write(\"this is write command\")\n",
    "fi.write(\"\\n it allows to write\")\n",
    "fi=open(\"new.txt\",\"r\")\n",
    "for each in fi:\n",
    "    for i in each:\n",
    "        a=b.write(i)\n",
    "file=open(\"another.txt\",\"r\")\n",
    "file.read()\n",
    "file.close()\n",
    "print(\"ok\")\n",
    "    "
   ]
  },
  {
   "cell_type": "code",
   "execution_count": null,
   "id": "0dd7b7bd",
   "metadata": {},
   "outputs": [],
   "source": []
  },
  {
   "cell_type": "code",
   "execution_count": null,
   "id": "107ba19e",
   "metadata": {},
   "outputs": [],
   "source": []
  }
 ],
 "metadata": {
  "kernelspec": {
   "display_name": "Python 3 (ipykernel)",
   "language": "python",
   "name": "python3"
  },
  "language_info": {
   "codemirror_mode": {
    "name": "ipython",
    "version": 3
   },
   "file_extension": ".py",
   "mimetype": "text/x-python",
   "name": "python",
   "nbconvert_exporter": "python",
   "pygments_lexer": "ipython3",
   "version": "3.9.7"
  }
 },
 "nbformat": 4,
 "nbformat_minor": 5
}
