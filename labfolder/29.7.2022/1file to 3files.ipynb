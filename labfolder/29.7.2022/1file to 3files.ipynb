{
 "cells": [
  {
   "cell_type": "code",
   "execution_count": 51,
   "id": "4a595a6e",
   "metadata": {},
   "outputs": [
    {
     "name": "stdout",
     "output_type": "stream",
     "text": [
      "file is created\n"
     ]
    }
   ],
   "source": [
    "file=open(\"file11.txt\",\"w\")\n",
    "file.close()\n",
    "print(\"file is created\")"
   ]
  },
  {
   "cell_type": "code",
   "execution_count": 52,
   "id": "35f2561b",
   "metadata": {},
   "outputs": [],
   "source": [
    "file=open(\"file11.txt\",\"w\")\n",
    "file.write(\"What Is Your name 123580 \\n\")\n",
    "file.close()\n"
   ]
  },
  {
   "cell_type": "code",
   "execution_count": 53,
   "id": "9d7f3c02",
   "metadata": {},
   "outputs": [
    {
     "name": "stdout",
     "output_type": "stream",
     "text": [
      "ok\n"
     ]
    }
   ],
   "source": [
    "a=open(\"file11.txt\",\"r\")\n",
    "c=a.readlines()\n",
    "b=open(\"lower.txt\",\"w\")\n",
    "f=open(\"isup.txt\",\"w\")\n",
    "g=open(\"isnum.txt\",\"w\")\n",
    "for line in c:\n",
    "    for i in line:\n",
    "        if i.islower()==True:\n",
    "            d=b.write(i)\n",
    "        elif i.isupper()==True:\n",
    "            d=f.write(i)\n",
    "        else:\n",
    "            d=g.write(i)\n",
    "        \n",
    "            \n",
    "            \n",
    "file=open(\"lower.txt\",\"r\")\n",
    "file.read()\n",
    "file=open(\"isup.txt\",\"r\")\n",
    "file.read()\n",
    "file=open(\"isnum.txt\",\"r\")\n",
    "print(\"ok\")\n"
   ]
  },
  {
   "cell_type": "code",
   "execution_count": null,
   "id": "d0523a72",
   "metadata": {},
   "outputs": [],
   "source": []
  },
  {
   "cell_type": "code",
   "execution_count": null,
   "id": "aab58b8b",
   "metadata": {},
   "outputs": [],
   "source": []
  }
 ],
 "metadata": {
  "kernelspec": {
   "display_name": "Python 3 (ipykernel)",
   "language": "python",
   "name": "python3"
  },
  "language_info": {
   "codemirror_mode": {
    "name": "ipython",
    "version": 3
   },
   "file_extension": ".py",
   "mimetype": "text/x-python",
   "name": "python",
   "nbconvert_exporter": "python",
   "pygments_lexer": "ipython3",
   "version": "3.9.7"
  }
 },
 "nbformat": 4,
 "nbformat_minor": 5
}
