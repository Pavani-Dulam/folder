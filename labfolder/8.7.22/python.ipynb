{
 "cells": [
  {
   "cell_type": "code",
   "execution_count": 1,
   "id": "93fbd518",
   "metadata": {},
   "outputs": [
    {
     "name": "stdout",
     "output_type": "stream",
     "text": [
      "hello pavani\n"
     ]
    }
   ],
   "source": [
    "print(\"hello pavani\")"
   ]
  },
  {
   "cell_type": "code",
   "execution_count": 3,
   "id": "e0458f4a",
   "metadata": {},
   "outputs": [
    {
     "name": "stdout",
     "output_type": "stream",
     "text": [
      "9\n"
     ]
    }
   ],
   "source": [
    "#sum of two numbers\n",
    "a=4\n",
    "b=5\n",
    "sum=a+b\n",
    "print(sum)"
   ]
  },
  {
   "cell_type": "code",
   "execution_count": 4,
   "id": "e224454f",
   "metadata": {},
   "outputs": [
    {
     "name": "stdout",
     "output_type": "stream",
     "text": [
      "enter a number6\n",
      "enter a number8\n",
      "14.0\n"
     ]
    }
   ],
   "source": [
    "#sum of 2 numbers from user input\n",
    "a=int(input(\"enter a number\"))\n",
    "b=int(input(\"enter a number\"))\n",
    "sum=float(a)+float(b)\n",
    "print(sum)"
   ]
  },
  {
   "cell_type": "code",
   "execution_count": 5,
   "id": "74ecc6a7",
   "metadata": {},
   "outputs": [
    {
     "name": "stdout",
     "output_type": "stream",
     "text": [
      "enter a number5\n",
      "enter a number5\n",
      "sum  of 5 and 5 is10.0\n"
     ]
    }
   ],
   "source": [
    "#sum of 2 numbers from user input\n",
    "a=int(input(\"enter a number\"))\n",
    "b=int(input(\"enter a number\"))\n",
    "sum=float(a)+float(b)\n",
    "print(\"sum  of {0} and {1} is{2}\".format(a,b,sum))"
   ]
  },
  {
   "cell_type": "code",
   "execution_count": 18,
   "id": "bd28349f",
   "metadata": {},
   "outputs": [
    {
     "name": "stdout",
     "output_type": "stream",
     "text": [
      "enter number6\n",
      "square root 6.000 is 2.449\n"
     ]
    }
   ],
   "source": [
    "#find square root\n",
    "n=int(input(\"enter number\"))\n",
    "numsqt=n**0.5\n",
    "print(\"square root %0.3f is %0.3f\"%(n,numsqt))\n"
   ]
  },
  {
   "cell_type": "code",
   "execution_count": 16,
   "id": "18205ac4",
   "metadata": {},
   "outputs": [
    {
     "name": "stdout",
     "output_type": "stream",
     "text": [
      "enter a number6\n",
      "enter a number6\n",
      "sum  of 6 and 6 is 12.0\n"
     ]
    }
   ],
   "source": [
    "#sum of 2 numbers from user input\n",
    "a=int(input(\"enter a number\"))\n",
    "b=int(input(\"enter a number\"))\n",
    "sum=float(a)+float(b)\n",
    "print(f\"sum  of {a} and {b} is {sum}\")"
   ]
  },
  {
   "cell_type": "code",
   "execution_count": 3,
   "id": "91af0264",
   "metadata": {},
   "outputs": [
    {
     "name": "stdout",
     "output_type": "stream",
     "text": [
      "enter number5\n",
      "enter number6\n",
      "enter number7\n",
      "the area is 14.696938456699069\n"
     ]
    }
   ],
   "source": [
    "#calculate area of triangle\n",
    "#area=squareRootOf(s(s-a)(s-b)(s-c))\n",
    "#where s=a+b+c/2\n",
    "a=int(input(\"enter number\"))\n",
    "b=int(input(\"enter number\"))\n",
    "c=int(input(\"enter number\"))\n",
    "s=(a+b+c)/2\n",
    "area=(s*(s-a)*(s-b)*(s-c))\n",
    "t=area**0.5\n",
    "print(\"the area is\",t)\n"
   ]
  },
  {
   "cell_type": "code",
   "execution_count": 6,
   "id": "c5921e7c",
   "metadata": {},
   "outputs": [
    {
     "name": "stdout",
     "output_type": "stream",
     "text": [
      "enter a=6\n",
      "enter b=4\n",
      "a= 4\n",
      "b= 6\n"
     ]
    }
   ],
   "source": [
    "#swap two numbers\n",
    "a=int(input(\"enter a=\"))\n",
    "b=int(input(\"enter b=\"))\n",
    "temp=a\n",
    "a=b\n",
    "b=temp\n",
    "print(\"a=\",a)\n",
    "print(\"b=\",b)\n"
   ]
  },
  {
   "cell_type": "code",
   "execution_count": 7,
   "id": "007b4ee4",
   "metadata": {},
   "outputs": [
    {
     "name": "stdout",
     "output_type": "stream",
     "text": [
      "x= 6\n",
      "y= 5\n"
     ]
    }
   ],
   "source": [
    "#without using temp\n",
    "x=5\n",
    "y=6\n",
    "x,y=y,x\n",
    "print(\"x=\",x)\n",
    "print(\"y=\",y)"
   ]
  },
  {
   "cell_type": "code",
   "execution_count": 27,
   "id": "2d024e4e",
   "metadata": {},
   "outputs": [
    {
     "name": "stdout",
     "output_type": "stream",
     "text": [
      "enter a number37.6\n",
      "37.6 degree celsius is equal to 99.68 degree of fahrenheit\n"
     ]
    }
   ],
   "source": [
    "#covert celsius to fahrenheit\n",
    "#f=celsius*1.8+32\n",
    "celsius=float(input(\"enter a number\"))\n",
    "fahrenheit=(celsius*1.8)+32\n",
    "#print(\"%0.1f degree celsius is equal to %0.1f degree of fahrenheit\"%(celsius,fahrenheit))\n",
    "print(celsius,\"degree celsius is equal to\",fahrenheit,\"degree of fahrenheit\")"
   ]
  },
  {
   "cell_type": "code",
   "execution_count": 31,
   "id": "ed558647",
   "metadata": {},
   "outputs": [
    {
     "name": "stdout",
     "output_type": "stream",
     "text": [
      "enter year2022\n",
      "2022 is not leap year\n"
     ]
    }
   ],
   "source": [
    "#check leapyear or not\n",
    "y=int(input(\"enter year\"))\n",
    "if(y%400==0)and(y%100==0):\n",
    "    print(\"{0} is a leap year\".format(y))\n",
    "elif(y%4==0)and(y%100!=0):\n",
    "    print(y,\"is leap year\")\n",
    "else:\n",
    "    print(\"{0} is not leap year\".format(y))\n"
   ]
  },
  {
   "cell_type": "code",
   "execution_count": 44,
   "id": "13839db8",
   "metadata": {},
   "outputs": [
    {
     "name": "stdout",
     "output_type": "stream",
     "text": [
      "enter a number5\n",
      "5 is prime\n"
     ]
    }
   ],
   "source": [
    "#check prime or not\n",
    "num=int(input(\"enter a number\"))\n",
    "flag=False\n",
    "if num>1:\n",
    "    for i in range(2,num):\n",
    "        if(num%i)==0:\n",
    "           flag=True\n",
    "           break\n",
    "if flag:\n",
    "    print(num,\"not a prime\")\n",
    "else:\n",
    "    print(num,\"is prime\")"
   ]
  },
  {
   "cell_type": "code",
   "execution_count": 2,
   "id": "62bf6bf1",
   "metadata": {},
   "outputs": [
    {
     "name": "stdout",
     "output_type": "stream",
     "text": [
      "enter a number2\n",
      "enter a number12\n",
      "prime numbers between 2 and 12 is\n",
      "3\n",
      "5\n",
      "5\n",
      "5\n",
      "7\n",
      "7\n",
      "7\n",
      "7\n",
      "7\n",
      "9\n",
      "11\n",
      "11\n",
      "11\n",
      "11\n",
      "11\n",
      "11\n",
      "11\n",
      "11\n",
      "11\n"
     ]
    }
   ],
   "source": [
    "#print all prime numbers between two numbers\n",
    "lower=int(input(\"enter a number\"))\n",
    "upper=int(input(\"enter a number\"))\n",
    "print(\"prime numbers between\",lower,\"and\",upper,\"is\")\n",
    "for num in range(lower,upper+1):\n",
    "  if num>1:\n",
    "      for i in range(2,num):\n",
    "         if(num%i==0):\n",
    "            break\n",
    "         else:\n",
    "            print(num)\n",
    "    \n",
    "        "
   ]
  },
  {
   "cell_type": "code",
   "execution_count": null,
   "id": "0366b362",
   "metadata": {},
   "outputs": [],
   "source": []
  }
 ],
 "metadata": {
  "kernelspec": {
   "display_name": "Python 3 (ipykernel)",
   "language": "python",
   "name": "python3"
  },
  "language_info": {
   "codemirror_mode": {
    "name": "ipython",
    "version": 3
   },
   "file_extension": ".py",
   "mimetype": "text/x-python",
   "name": "python",
   "nbconvert_exporter": "python",
   "pygments_lexer": "ipython3",
   "version": "3.9.7"
  }
 },
 "nbformat": 4,
 "nbformat_minor": 5
}
