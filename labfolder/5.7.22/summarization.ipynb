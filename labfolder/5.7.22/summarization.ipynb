{
 "cells": [
  {
   "cell_type": "code",
   "execution_count": 5,
   "id": "3792d2ba",
   "metadata": {},
   "outputs": [
    {
     "data": {
      "text/html": [
       "<div>\n",
       "<style scoped>\n",
       "    .dataframe tbody tr th:only-of-type {\n",
       "        vertical-align: middle;\n",
       "    }\n",
       "\n",
       "    .dataframe tbody tr th {\n",
       "        vertical-align: top;\n",
       "    }\n",
       "\n",
       "    .dataframe thead th {\n",
       "        text-align: right;\n",
       "    }\n",
       "</style>\n",
       "<table border=\"1\" class=\"dataframe\">\n",
       "  <thead>\n",
       "    <tr style=\"text-align: right;\">\n",
       "      <th></th>\n",
       "      <th>name</th>\n",
       "      <th>age</th>\n",
       "      <th>salary</th>\n",
       "      <th>dept</th>\n",
       "      <th>gender</th>\n",
       "    </tr>\n",
       "  </thead>\n",
       "  <tbody>\n",
       "    <tr>\n",
       "      <th>0</th>\n",
       "      <td>abc</td>\n",
       "      <td>20</td>\n",
       "      <td>5000</td>\n",
       "      <td>cse</td>\n",
       "      <td>f</td>\n",
       "    </tr>\n",
       "    <tr>\n",
       "      <th>1</th>\n",
       "      <td>def</td>\n",
       "      <td>22</td>\n",
       "      <td>3000</td>\n",
       "      <td>ece</td>\n",
       "      <td>m</td>\n",
       "    </tr>\n",
       "    <tr>\n",
       "      <th>2</th>\n",
       "      <td>ghi</td>\n",
       "      <td>23</td>\n",
       "      <td>4500</td>\n",
       "      <td>cse</td>\n",
       "      <td>m</td>\n",
       "    </tr>\n",
       "    <tr>\n",
       "      <th>3</th>\n",
       "      <td>jkl</td>\n",
       "      <td>26</td>\n",
       "      <td>5300</td>\n",
       "      <td>cse</td>\n",
       "      <td>f</td>\n",
       "    </tr>\n",
       "    <tr>\n",
       "      <th>4</th>\n",
       "      <td>mno</td>\n",
       "      <td>21</td>\n",
       "      <td>4200</td>\n",
       "      <td>ece</td>\n",
       "      <td>f</td>\n",
       "    </tr>\n",
       "    <tr>\n",
       "      <th>5</th>\n",
       "      <td>pqr</td>\n",
       "      <td>24</td>\n",
       "      <td>6000</td>\n",
       "      <td>cse</td>\n",
       "      <td>m</td>\n",
       "    </tr>\n",
       "    <tr>\n",
       "      <th>6</th>\n",
       "      <td>stu</td>\n",
       "      <td>30</td>\n",
       "      <td>3200</td>\n",
       "      <td>cse</td>\n",
       "      <td>m</td>\n",
       "    </tr>\n",
       "    <tr>\n",
       "      <th>7</th>\n",
       "      <td>vw</td>\n",
       "      <td>33</td>\n",
       "      <td>2500</td>\n",
       "      <td>ece</td>\n",
       "      <td>f</td>\n",
       "    </tr>\n",
       "    <tr>\n",
       "      <th>8</th>\n",
       "      <td>xyz</td>\n",
       "      <td>34</td>\n",
       "      <td>4400</td>\n",
       "      <td>cse</td>\n",
       "      <td>m</td>\n",
       "    </tr>\n",
       "  </tbody>\n",
       "</table>\n",
       "</div>"
      ],
      "text/plain": [
       "  name  age  salary dept gender\n",
       "0  abc   20    5000  cse      f\n",
       "1  def   22    3000  ece      m\n",
       "2  ghi   23    4500  cse      m\n",
       "3  jkl   26    5300  cse      f\n",
       "4  mno   21    4200  ece      f\n",
       "5  pqr   24    6000  cse      m\n",
       "6  stu   30    3200  cse      m\n",
       "7   vw   33    2500  ece      f\n",
       "8  xyz   34    4400  cse      m"
      ]
     },
     "execution_count": 5,
     "metadata": {},
     "output_type": "execute_result"
    }
   ],
   "source": [
    "import pandas as pd\n",
    "df=pd.read_csv(\"emp.csv\")\n",
    "df"
   ]
  },
  {
   "cell_type": "code",
   "execution_count": 6,
   "id": "22641474",
   "metadata": {},
   "outputs": [
    {
     "name": "stdout",
     "output_type": "stream",
     "text": [
      "         age  salary\n",
      "gender              \n",
      "f       25.0  4250.0\n",
      "m       26.6  4220.0\n"
     ]
    }
   ],
   "source": [
    "print(df.groupby([\"gender\"]).mean())\n"
   ]
  },
  {
   "cell_type": "code",
   "execution_count": 7,
   "id": "06e4f031",
   "metadata": {},
   "outputs": [
    {
     "name": "stdout",
     "output_type": "stream",
     "text": [
      "{('f', 'cse'): [0, 3], ('f', 'ece'): [4, 7], ('m', 'cse'): [2, 5, 6, 8], ('m', 'ece'): [1]}\n"
     ]
    }
   ],
   "source": [
    "a=df.groupby([\"gender\",\"dept\"])\n",
    "print(a.groups)"
   ]
  },
  {
   "cell_type": "code",
   "execution_count": 8,
   "id": "d5921d1a",
   "metadata": {},
   "outputs": [
    {
     "name": "stdout",
     "output_type": "stream",
     "text": [
      "            age       salary\n",
      "dept                        \n",
      "cse   26.166667  4733.333333\n",
      "ece   25.333333  3233.333333\n"
     ]
    }
   ],
   "source": [
    "print(df.groupby([\"dept\"]).mean())\n"
   ]
  },
  {
   "cell_type": "code",
   "execution_count": 9,
   "id": "772f25be",
   "metadata": {},
   "outputs": [
    {
     "name": "stdout",
     "output_type": "stream",
     "text": [
      "     name  age  salary gender\n",
      "dept                         \n",
      "cse   xyz   34    6000      m\n",
      "ece    vw   33    4200      m\n"
     ]
    }
   ],
   "source": [
    "print(df.groupby([\"dept\"]).max())"
   ]
  },
  {
   "cell_type": "code",
   "execution_count": 10,
   "id": "4f83e3b0",
   "metadata": {},
   "outputs": [
    {
     "name": "stdout",
     "output_type": "stream",
     "text": [
      "     name  age  salary gender\n",
      "dept                         \n",
      "cse   abc   20    3200      f\n",
      "ece   def   21    2500      f\n"
     ]
    }
   ],
   "source": [
    "print(df.groupby([\"dept\"]).min())"
   ]
  },
  {
   "cell_type": "code",
   "execution_count": 11,
   "id": "a9fe8c9e",
   "metadata": {},
   "outputs": [
    {
     "name": "stdout",
     "output_type": "stream",
     "text": [
      "{'f': [0, 3, 4, 7], 'm': [1, 2, 5, 6, 8]}\n"
     ]
    }
   ],
   "source": [
    "print(df.groupby(\"gender\").groups)"
   ]
  },
  {
   "cell_type": "code",
   "execution_count": 12,
   "id": "974fe098",
   "metadata": {},
   "outputs": [
    {
     "name": "stdout",
     "output_type": "stream",
     "text": [
      "<pandas.core.groupby.generic.DataFrameGroupBy object at 0x000001AB16833A30>\n"
     ]
    }
   ],
   "source": [
    "g=df.groupby([\"gender\"])\n",
    "print(g)"
   ]
  },
  {
   "cell_type": "code",
   "execution_count": 13,
   "id": "54b85ed1",
   "metadata": {},
   "outputs": [
    {
     "data": {
      "text/plain": [
       "m    5\n",
       "f    4\n",
       "Name: gender, dtype: int64"
      ]
     },
     "execution_count": 13,
     "metadata": {},
     "output_type": "execute_result"
    }
   ],
   "source": [
    "df[\"gender\"].value_counts()\n"
   ]
  },
  {
   "cell_type": "code",
   "execution_count": 14,
   "id": "00cbd2f7",
   "metadata": {},
   "outputs": [
    {
     "data": {
      "text/plain": [
       "abc    1\n",
       "def    1\n",
       "ghi    1\n",
       "jkl    1\n",
       "mno    1\n",
       "pqr    1\n",
       "stu    1\n",
       "vw     1\n",
       "xyz    1\n",
       "Name: name, dtype: int64"
      ]
     },
     "execution_count": 14,
     "metadata": {},
     "output_type": "execute_result"
    }
   ],
   "source": [
    "df[\"name\"].value_counts()"
   ]
  },
  {
   "cell_type": "code",
   "execution_count": 15,
   "id": "3bc809a3",
   "metadata": {},
   "outputs": [
    {
     "data": {
      "text/plain": [
       "cse    6\n",
       "ece    3\n",
       "Name: dept, dtype: int64"
      ]
     },
     "execution_count": 15,
     "metadata": {},
     "output_type": "execute_result"
    }
   ],
   "source": [
    "df[\"dept\"].value_counts()"
   ]
  },
  {
   "cell_type": "code",
   "execution_count": 16,
   "id": "fc83995d",
   "metadata": {},
   "outputs": [
    {
     "name": "stdout",
     "output_type": "stream",
     "text": [
      "       name  age  salary dept\n",
      "gender                       \n",
      "f       abc   20    2500  cse\n",
      "m       def   22    3000  cse\n"
     ]
    }
   ],
   "source": [
    "print(df.groupby(\"gender\").min())"
   ]
  },
  {
   "cell_type": "code",
   "execution_count": 17,
   "id": "750d12a1",
   "metadata": {},
   "outputs": [
    {
     "data": {
      "text/html": [
       "<div>\n",
       "<style scoped>\n",
       "    .dataframe tbody tr th:only-of-type {\n",
       "        vertical-align: middle;\n",
       "    }\n",
       "\n",
       "    .dataframe tbody tr th {\n",
       "        vertical-align: top;\n",
       "    }\n",
       "\n",
       "    .dataframe thead th {\n",
       "        text-align: right;\n",
       "    }\n",
       "</style>\n",
       "<table border=\"1\" class=\"dataframe\">\n",
       "  <thead>\n",
       "    <tr style=\"text-align: right;\">\n",
       "      <th></th>\n",
       "      <th>name</th>\n",
       "      <th>age</th>\n",
       "      <th>salary</th>\n",
       "      <th>dept</th>\n",
       "      <th>gender</th>\n",
       "      <th>exp</th>\n",
       "    </tr>\n",
       "  </thead>\n",
       "  <tbody>\n",
       "    <tr>\n",
       "      <th>0</th>\n",
       "      <td>abc</td>\n",
       "      <td>20</td>\n",
       "      <td>5000</td>\n",
       "      <td>cse</td>\n",
       "      <td>f</td>\n",
       "      <td>3</td>\n",
       "    </tr>\n",
       "    <tr>\n",
       "      <th>1</th>\n",
       "      <td>def</td>\n",
       "      <td>22</td>\n",
       "      <td>3000</td>\n",
       "      <td>ece</td>\n",
       "      <td>m</td>\n",
       "      <td>4</td>\n",
       "    </tr>\n",
       "    <tr>\n",
       "      <th>2</th>\n",
       "      <td>ghi</td>\n",
       "      <td>23</td>\n",
       "      <td>4500</td>\n",
       "      <td>cse</td>\n",
       "      <td>m</td>\n",
       "      <td>5</td>\n",
       "    </tr>\n",
       "    <tr>\n",
       "      <th>3</th>\n",
       "      <td>jkl</td>\n",
       "      <td>26</td>\n",
       "      <td>5300</td>\n",
       "      <td>cse</td>\n",
       "      <td>f</td>\n",
       "      <td>3</td>\n",
       "    </tr>\n",
       "    <tr>\n",
       "      <th>4</th>\n",
       "      <td>mno</td>\n",
       "      <td>21</td>\n",
       "      <td>4200</td>\n",
       "      <td>ece</td>\n",
       "      <td>f</td>\n",
       "      <td>4</td>\n",
       "    </tr>\n",
       "    <tr>\n",
       "      <th>5</th>\n",
       "      <td>pqr</td>\n",
       "      <td>24</td>\n",
       "      <td>6000</td>\n",
       "      <td>cse</td>\n",
       "      <td>m</td>\n",
       "      <td>5</td>\n",
       "    </tr>\n",
       "    <tr>\n",
       "      <th>6</th>\n",
       "      <td>stu</td>\n",
       "      <td>30</td>\n",
       "      <td>3200</td>\n",
       "      <td>cse</td>\n",
       "      <td>m</td>\n",
       "      <td>1</td>\n",
       "    </tr>\n",
       "    <tr>\n",
       "      <th>7</th>\n",
       "      <td>vw</td>\n",
       "      <td>33</td>\n",
       "      <td>2500</td>\n",
       "      <td>ece</td>\n",
       "      <td>f</td>\n",
       "      <td>5</td>\n",
       "    </tr>\n",
       "    <tr>\n",
       "      <th>8</th>\n",
       "      <td>xyz</td>\n",
       "      <td>34</td>\n",
       "      <td>4400</td>\n",
       "      <td>cse</td>\n",
       "      <td>m</td>\n",
       "      <td>4</td>\n",
       "    </tr>\n",
       "  </tbody>\n",
       "</table>\n",
       "</div>"
      ],
      "text/plain": [
       "  name  age  salary dept gender  exp\n",
       "0  abc   20    5000  cse      f    3\n",
       "1  def   22    3000  ece      m    4\n",
       "2  ghi   23    4500  cse      m    5\n",
       "3  jkl   26    5300  cse      f    3\n",
       "4  mno   21    4200  ece      f    4\n",
       "5  pqr   24    6000  cse      m    5\n",
       "6  stu   30    3200  cse      m    1\n",
       "7   vw   33    2500  ece      f    5\n",
       "8  xyz   34    4400  cse      m    4"
      ]
     },
     "execution_count": 17,
     "metadata": {},
     "output_type": "execute_result"
    }
   ],
   "source": [
    "df[\"exp\"]=[3,4,5,3,4,5,1,5,4,]\n",
    "df"
   ]
  },
  {
   "cell_type": "code",
   "execution_count": 25,
   "id": "14f0465a",
   "metadata": {},
   "outputs": [
    {
     "name": "stdout",
     "output_type": "stream",
     "text": [
      "     age  salary\n",
      "exp             \n",
      "1     30    3200\n",
      "3     46   10300\n",
      "4     77   11600\n",
      "5     80   13000\n"
     ]
    }
   ],
   "source": [
    "print(df.groupby(\"exp\").sum())"
   ]
  },
  {
   "cell_type": "code",
   "execution_count": 26,
   "id": "88ee50f9",
   "metadata": {},
   "outputs": [
    {
     "name": "stdout",
     "output_type": "stream",
     "text": [
      "    name  age  salary dept gender\n",
      "exp                              \n",
      "1    stu   30    3200  cse      m\n",
      "3    abc   20    5000  cse      f\n",
      "4    def   21    3000  cse      f\n",
      "5    ghi   23    2500  cse      f\n"
     ]
    }
   ],
   "source": [
    "print(df.groupby(\"exp\").min())"
   ]
  },
  {
   "cell_type": "code",
   "execution_count": 27,
   "id": "928b0b61",
   "metadata": {},
   "outputs": [
    {
     "name": "stdout",
     "output_type": "stream",
     "text": [
      "       name  age dept gender  exp\n",
      "salary                           \n",
      "2500     vw   33  ece      f    5\n",
      "3000    def   22  ece      m    4\n",
      "3200    stu   30  cse      m    1\n",
      "4200    mno   21  ece      f    4\n",
      "4400    xyz   34  cse      m    4\n",
      "4500    ghi   23  cse      m    5\n",
      "5000    abc   20  cse      f    3\n",
      "5300    jkl   26  cse      f    3\n",
      "6000    pqr   24  cse      m    5\n"
     ]
    }
   ],
   "source": [
    "print(df.groupby(\"salary\").min())"
   ]
  },
  {
   "cell_type": "code",
   "execution_count": 28,
   "id": "3d450297",
   "metadata": {},
   "outputs": [
    {
     "name": "stdout",
     "output_type": "stream",
     "text": [
      "       name  age dept gender  exp\n",
      "salary                           \n",
      "2500     vw   33  ece      f    5\n",
      "3000    def   22  ece      m    4\n",
      "3200    stu   30  cse      m    1\n",
      "4200    mno   21  ece      f    4\n",
      "4400    xyz   34  cse      m    4\n",
      "4500    ghi   23  cse      m    5\n",
      "5000    abc   20  cse      f    3\n",
      "5300    jkl   26  cse      f    3\n",
      "6000    pqr   24  cse      m    5\n"
     ]
    }
   ],
   "source": [
    "print(df.groupby(\"salary\").max())"
   ]
  },
  {
   "cell_type": "code",
   "execution_count": null,
   "id": "32a886b9",
   "metadata": {},
   "outputs": [],
   "source": []
  },
  {
   "cell_type": "code",
   "execution_count": null,
   "id": "ed1b1778",
   "metadata": {},
   "outputs": [],
   "source": []
  }
 ],
 "metadata": {
  "kernelspec": {
   "display_name": "Python 3 (ipykernel)",
   "language": "python",
   "name": "python3"
  },
  "language_info": {
   "codemirror_mode": {
    "name": "ipython",
    "version": 3
   },
   "file_extension": ".py",
   "mimetype": "text/x-python",
   "name": "python",
   "nbconvert_exporter": "python",
   "pygments_lexer": "ipython3",
   "version": "3.9.7"
  }
 },
 "nbformat": 4,
 "nbformat_minor": 5
}
