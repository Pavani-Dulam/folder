{
 "cells": [
  {
   "cell_type": "code",
   "execution_count": 1,
   "id": "47d53eea",
   "metadata": {},
   "outputs": [
    {
     "name": "stdout",
     "output_type": "stream",
     "text": [
      "    serial no month  days\n",
      "0           1   jan    31\n",
      "1           2   feb    29\n",
      "2           3   mar    31\n",
      "3           4   apr    30\n",
      "4           5   may    31\n",
      "5           6   jun    30\n",
      "6           7   jul    31\n",
      "7           8   aug    31\n",
      "8           9   sep    30\n",
      "9          10   oct    31\n",
      "10         11   nov    31\n",
      "11         12   dec    31\n"
     ]
    }
   ],
   "source": [
    "import pandas as pd\n",
    "df=pd.read_csv(\"dsp.csv\")\n",
    "print(df)"
   ]
  },
  {
   "cell_type": "code",
   "execution_count": 2,
   "id": "3d911d6a",
   "metadata": {
    "scrolled": true
   },
   "outputs": [
    {
     "name": "stdout",
     "output_type": "stream",
     "text": [
      "    serial no month  days\n",
      "0           1   jan  31.0\n",
      "1           2   feb  29.0\n",
      "2           3   mar  31.0\n",
      "3           4   apr  30.0\n",
      "4           5   may  31.0\n",
      "5           6   jun  30.0\n",
      "6           7   jul  31.0\n",
      "7           8   aug  31.0\n",
      "8           9   sep  30.0\n",
      "9          10   oct  31.0\n",
      "10         11   nov  31.0\n",
      "11         12   dec  31.0\n"
     ]
    }
   ],
   "source": [
    "df[\"days\"]=df[\"days\"].astype(\"float\")\n",
    "print(df)"
   ]
  },
  {
   "cell_type": "code",
   "execution_count": 3,
   "id": "d569a9d6",
   "metadata": {},
   "outputs": [
    {
     "data": {
      "text/plain": [
       "serial no      int64\n",
       "month         object\n",
       "days         float64\n",
       "dtype: object"
      ]
     },
     "execution_count": 3,
     "metadata": {},
     "output_type": "execute_result"
    }
   ],
   "source": [
    "df.dtypes"
   ]
  },
  {
   "cell_type": "code",
   "execution_count": 5,
   "id": "4847c8fa",
   "metadata": {},
   "outputs": [
    {
     "name": "stdout",
     "output_type": "stream",
     "text": [
      "0     2\n",
      "1     4\n",
      "2     6\n",
      "3     8\n",
      "4    10\n",
      "dtype: int64\n"
     ]
    }
   ],
   "source": [
    "import pandas as pd\n",
    "ds=pd.Series([2,4,6,8,10])\n",
    "print(ds)"
   ]
  },
  {
   "cell_type": "code",
   "execution_count": 6,
   "id": "bd293b39",
   "metadata": {},
   "outputs": [
    {
     "name": "stdout",
     "output_type": "stream",
     "text": [
      "0     2\n",
      "1     4\n",
      "2     6\n",
      "3     8\n",
      "4    10\n",
      "dtype: int64\n"
     ]
    }
   ],
   "source": [
    "import pandas as pd\n",
    "ds=pd.Series([2,4,6,8,10])\n",
    "print(ds)"
   ]
  },
  {
   "cell_type": "code",
   "execution_count": 7,
   "id": "91199480",
   "metadata": {},
   "outputs": [
    {
     "name": "stdout",
     "output_type": "stream",
     "text": [
      "0    10\n",
      "1    30\n",
      "2    50\n",
      "dtype: int64\n"
     ]
    }
   ],
   "source": [
    "import pandas as pd\n",
    "a=pd.Series([10,30,50])\n",
    "print(a)\n"
   ]
  },
  {
   "cell_type": "code",
   "execution_count": null,
   "id": "15deffff",
   "metadata": {},
   "outputs": [],
   "source": []
  }
 ],
 "metadata": {
  "kernelspec": {
   "display_name": "Python 3 (ipykernel)",
   "language": "python",
   "name": "python3"
  },
  "language_info": {
   "codemirror_mode": {
    "name": "ipython",
    "version": 3
   },
   "file_extension": ".py",
   "mimetype": "text/x-python",
   "name": "python",
   "nbconvert_exporter": "python",
   "pygments_lexer": "ipython3",
   "version": "3.9.7"
  }
 },
 "nbformat": 4,
 "nbformat_minor": 5
}
